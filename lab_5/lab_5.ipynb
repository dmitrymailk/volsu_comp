{
  "cells": [
    {
      "cell_type": "markdown",
      "metadata": {},
      "source": [
        "Лабораторная работа No5\n",
        "\n",
        "Тема \"Семантика мелких шагов\" (15 баллов)\n",
        "\n",
        "1. Создать объекты программы для представления лексем арифметического выражения \n",
        "вида\"x*(y+z-y1)+w*x2:w3\".\n",
        "\n",
        "2. Из объектов-лексем создать синтаксическое дерево, соответствующее данному арифметическому выражению. \n",
        "\n",
        "3. Реализовать процедуру вычисления значения выражения на основе алгоритма свёрток."
      ]
    },
    {
      "cell_type": "code",
      "execution_count": 2,
      "metadata": {
        "colab": {
          "base_uri": "https://localhost:8080/"
        },
        "id": "JWC6BruolauF",
        "outputId": "a768a304-8598-4a3f-ba1a-4963842952c8"
      },
      "outputs": [
        {
          "name": "stdout",
          "output_type": "stream",
          "text": [
            "INITIAL STRING= 12*(3+3*4)*5\n",
            "REVERSE POLISH= 12334*+*5*\n",
            "900.0 900\n"
          ]
        }
      ],
      "source": [
        "import math\n",
        "\n",
        "\n",
        "def infix_to_postfix_5(infix_notation, delimetr=\"\"):\n",
        "    \"\"\"\n",
        "    convertion for multiple digits\n",
        "    with parentheses, unary minus and cos\n",
        "    \"\"\"\n",
        "    stack = []\n",
        "    RPM = []\n",
        "\n",
        "    strength = {\n",
        "        \"+\": 1,\n",
        "        \"-\": 1,\n",
        "        \"*\": 2,\n",
        "        \"^\": 3,\n",
        "        \"/\": 2,\n",
        "        \"cos\": 2,\n",
        "        \"sin\": 2,\n",
        "        \"sqrt\": 2,\n",
        "        \"(\": -1,\n",
        "    }\n",
        "\n",
        "    i = 0\n",
        "    while i < len(infix_notation):\n",
        "        char: str = infix_notation[i]\n",
        "        if char.isdigit():\n",
        "            num = f\"{char}\"\n",
        "            if i < len(infix_notation) - 1:\n",
        "                while i < len(infix_notation) - 1:\n",
        "                    if not (\n",
        "                        infix_notation[i + 1].isdigit() or infix_notation[i + 1] == \".\"\n",
        "                    ):\n",
        "                        break\n",
        "\n",
        "                    num += infix_notation[i + 1]\n",
        "                    i += 1\n",
        "\n",
        "            i += 1\n",
        "            num += delimetr\n",
        "            RPM.append(num)\n",
        "            if i > 1:\n",
        "                if infix_notation[i - 1] == \"-\" and infix_notation[i - 2] == \"(\":\n",
        "                    RPM.append(\"-\")\n",
        "\n",
        "        elif char in \"-+*/()^\":\n",
        "            if len(stack) > 0:\n",
        "                if not char in \"()\":\n",
        "                    last_char = stack[-1]\n",
        "                    if not last_char in [\"(\", \")\"]:\n",
        "                        if strength[char] > strength[last_char]:\n",
        "                            stack.append(char)\n",
        "                            i += 1\n",
        "                        else:\n",
        "                            while (\n",
        "                                len(stack) > 0 and strength[char] <= strength[stack[-1]]\n",
        "                            ):\n",
        "                                if stack[-1] == \"(\":\n",
        "                                    break\n",
        "                                last_char = stack.pop()\n",
        "                                RPM.append(last_char)\n",
        "                            stack.append(char)\n",
        "                            i += 1\n",
        "                    else:\n",
        "                        if infix_notation[i - 1] == \"(\" and char == \"-\":\n",
        "                            RPM.append(\"0\" + delimetr)\n",
        "                            stack.append(\"-\")\n",
        "                        #     RPM.append(\"-\")\n",
        "                        else:\n",
        "                            stack.append(char)\n",
        "                        i += 1\n",
        "                else:\n",
        "                    if char == \"(\":\n",
        "                        stack.append(char)\n",
        "                        i += 1\n",
        "                    elif char == \")\":\n",
        "                        last_char = stack.pop()\n",
        "                        while len(stack) > 0 and last_char != \"(\":\n",
        "                            RPM.append(last_char)\n",
        "                            last_char = stack.pop()\n",
        "                        i += 1\n",
        "            else:\n",
        "                if char == \"-\":\n",
        "                    RPM.append(\"0\" + delimetr)\n",
        "                    stack.append(\"-\")\n",
        "                else:\n",
        "                    stack.append(char)\n",
        "                i += 1\n",
        "        elif char.isalpha():\n",
        "            if infix_notation[i : i + 3] == \"cos\":\n",
        "                print(\"cos\")\n",
        "                RPM.append(\"0\")\n",
        "                stack.append(\"cos\")\n",
        "                i += 3\n",
        "            elif infix_notation[i : i + 3] == \"sin\":\n",
        "                print(\"sin\")\n",
        "                RPM.append(\"0\")\n",
        "                stack.append(\"sin\")\n",
        "                i += 3\n",
        "            elif infix_notation[i : i + 4] == \"sqrt\":\n",
        "                print(\"sqrt\")\n",
        "                RPM.append(\"0\")\n",
        "                stack.append(\"sqrt\")\n",
        "                i += 4\n",
        "\n",
        "    # simply getting operations from stack and passing them to RPM\n",
        "    for char in stack[::-1]:\n",
        "        RPM.append(char)\n",
        "    # RPM_string = \"\".join(RPM)\n",
        "    # print(RPM)\n",
        "    return RPM\n",
        "\n",
        "\n",
        "# infix_to_postfix_1(infix_notation=infix_notation)\n",
        "# infix_to_postfix_2(infix_notation=infix_notation_1)\n",
        "# infix_to_postfix_2(infix_notation=infix_notation_2)\n",
        "def postfix_calculation(RPM):\n",
        "    def calculate_nums(num_1, num_2, sign):\n",
        "        global result\n",
        "        if sign == \"+\":\n",
        "            result = num_1 + num_2\n",
        "        elif sign == \"-\":\n",
        "            result = num_1 - num_2\n",
        "        elif sign == \"/\":\n",
        "            result = num_1 / num_2\n",
        "        elif sign == \"*\":\n",
        "            result = num_1 * num_2\n",
        "        elif sign == \"cos\":\n",
        "            result = math.cos(num_2)\n",
        "        elif sign == \"sin\":\n",
        "            result = math.sin(num_2)\n",
        "        elif sign == \"sqrt\":\n",
        "            result = math.sqrt(num_2)\n",
        "        elif sign == \"^\":\n",
        "            result = num_1**num_2\n",
        "\n",
        "        return result\n",
        "\n",
        "    numbers_stack = []\n",
        "\n",
        "    i = 0\n",
        "    while i < len(RPM):\n",
        "        item = RPM[i]\n",
        "        if item[0].isdigit():\n",
        "            numbers_stack.append(float(item))\n",
        "        else:\n",
        "            num_1 = numbers_stack.pop()\n",
        "            num_2 = numbers_stack.pop()\n",
        "            sign = item\n",
        "            result_operation = calculate_nums(num_2, num_1, sign)\n",
        "            numbers_stack.append(result_operation)\n",
        "        i += 1\n",
        "\n",
        "    return numbers_stack[0]\n",
        "\n",
        "\n",
        "# examples = [[\"5+(6.6+9-5.2)/(0.8+1*2)+7\", \"0;5;-+6.6;9;+5.2;0.8;1;2;*+/7;+\"]]\n",
        "# examples = [[\"-55+(-60.70-9)*(-7)-(120+3*4.56)/(-22)\", \"569-7*+\"]]\n",
        "# examples = [[\"-(-3.5+2*2.25)*7+1*cos(1+5*4)\", \"569-7*+\"]]\n",
        "examples = [\n",
        "    # '1+2*(3+4/2-cos(1+2))*2+1',\n",
        "    # \"-sqrt(-3.5+2*2.25)*7^0.5+1*cos(1+5*4)*(sin(3+5*6)+2)*sqrt(123+4*5+12)^3\",\n",
        "    # \"-sqrt(-3+2*2)*7+1*(1+5*4)*(3+5*6+2)*sqrt(1+4*5+1)\",\n",
        "    \"12*(3+3*4)*5\"\n",
        "    # \"((1*2)+3)\",\n",
        "    # \"2.5\",\n",
        "    # \"3+sqrt(5)*6/6+sqrt(7)\"\n",
        "]\n",
        "\n",
        "# 05-+69+58;1;2;*+/7;++\n",
        "for item in examples:\n",
        "    RPN = infix_to_postfix_5(item, delimetr=\"\")\n",
        "    # if predict != item[1]:\n",
        "    print(\"INITIAL STRING=\", item)\n",
        "    print(\"REVERSE POLISH=\", \"\".join(RPN))\n",
        "\n",
        "    result = postfix_calculation(RPN)\n",
        "    eval_result = \"exec('from math import *') or \" + item\n",
        "    eval_result = eval_result.replace(\"^\", \"**\")\n",
        "    print(result, eval(eval_result))\n",
        "    # print(f\"{item[1]}\\n{predict}\")"
      ]
    },
    {
      "cell_type": "code",
      "execution_count": 3,
      "metadata": {},
      "outputs": [
        {
          "data": {
            "text/plain": [
              "900"
            ]
          },
          "execution_count": 3,
          "metadata": {},
          "output_type": "execute_result"
        }
      ],
      "source": [
        "12*(3+3*4)*5"
      ]
    },
    {
      "cell_type": "code",
      "execution_count": 2,
      "metadata": {
        "id": "4ZoULo58leSz"
      },
      "outputs": [],
      "source": [
        "class Node:\n",
        "    def __init__(self, value):\n",
        "        self.value = value\n",
        "        self.left = None\n",
        "        self.right = None\n",
        "\n",
        "def build_tree(rpn):\n",
        "    stack = []\n",
        "    for element in rpn:\n",
        "        if element in ['+', '-', '*', '/']:\n",
        "            node = Node(element)\n",
        "            x = stack.pop()\n",
        "            y = stack.pop()\n",
        "            node.left = y\n",
        "            node.right = x\n",
        "            stack.append(node)\n",
        "        else:\n",
        "            stack.append(Node(element))\n",
        "    return stack[0]\n",
        "rpn = RPN\n",
        "tree = build_tree(rpn)"
      ]
    },
    {
      "cell_type": "code",
      "execution_count": null,
      "metadata": {
        "colab": {
          "base_uri": "https://localhost:8080/"
        },
        "id": "Ni3CVnAIuxvX",
        "outputId": "ceec2564-9896-4cec-ef04-c42fd7996500"
      },
      "outputs": [],
      "source": [
        "import graphviz\n",
        "\n",
        "class Node:\n",
        "    def __init__(self, value, left=None, right=None):\n",
        "        self.value = value\n",
        "        self.left = left\n",
        "        self.right = right\n",
        "\n",
        "    def __repr__(self):\n",
        "        return f\"Node({self.value})\"\n",
        "\n",
        "def visualize_tree(root):\n",
        "    dot = graphviz.Digraph(comment='Expression Tree')\n",
        "\n",
        "    def add_nodes(node):\n",
        "        if node.left:\n",
        "            dot.node(str(node.left), str(node.left.value))\n",
        "            dot.edge(str(node.left), str(node))\n",
        "            add_nodes(node.left)\n",
        "        if node.right:\n",
        "            dot.node(str(node.right), str(node.right.value))\n",
        "            dot.edge(str(node.right), str(node))\n",
        "            add_nodes(node.right)\n",
        "\n",
        "    add_nodes(root)\n",
        "    dot.node(str(root), str(root.value))\n",
        "    print(dot.source)\n",
        "    dot.render('tree.gv',  view=True, format='png')\n",
        "\n",
        "\n",
        "\n",
        "visualize_tree(tree)"
      ]
    },
    {
      "cell_type": "markdown",
      "metadata": {},
      "source": [
        "![](./expression_1.png)"
      ]
    },
    {
      "cell_type": "code",
      "execution_count": 43,
      "metadata": {},
      "outputs": [
        {
          "name": "stdout",
          "output_type": "stream",
          "text": [
            "INITIAL STRING= 1*(2+3-4)+5*6/7\n",
            "REVERSE POLISH= 123+4-*56*7/+\n",
            "5.285714285714286 5.285714285714286\n"
          ]
        }
      ],
      "source": [
        "# x*(y+z-y1)+w*x2:w3\n",
        "item = \"1*(2+3-4)+5*6/7\"\n",
        "RPN = infix_to_postfix_5(item, delimetr=\"\")\n",
        "# if predict != item[1]:\n",
        "print(\"INITIAL STRING=\", item)\n",
        "print(\"REVERSE POLISH=\", \"\".join(RPN))\n",
        "\n",
        "result = postfix_calculation(RPN)\n",
        "eval_result = \"exec('from math import *') or \" + item\n",
        "eval_result = eval_result.replace(\"^\", \"**\")\n",
        "print(result, eval(eval_result))"
      ]
    },
    {
      "cell_type": "code",
      "execution_count": 45,
      "metadata": {},
      "outputs": [
        {
          "data": {
            "text/plain": [
              "'1 2 3 + 4 - * 5 6 * 7 / +'"
            ]
          },
          "execution_count": 45,
          "metadata": {},
          "output_type": "execute_result"
        }
      ],
      "source": [
        "\" \".join(RPN)"
      ]
    },
    {
      "cell_type": "code",
      "execution_count": 44,
      "metadata": {},
      "outputs": [],
      "source": [
        "rpn = RPN\n",
        "tree = build_tree(rpn)"
      ]
    },
    {
      "cell_type": "markdown",
      "metadata": {},
      "source": [
        "![](./expression_2.png)"
      ]
    },
    {
      "cell_type": "markdown",
      "metadata": {},
      "source": [
        "Проверить можно тут https://notation-visualizer.ajayliu.com/"
      ]
    },
    {
      "cell_type": "code",
      "execution_count": null,
      "metadata": {},
      "outputs": [],
      "source": []
    }
  ],
  "metadata": {
    "colab": {
      "provenance": []
    },
    "kernelspec": {
      "display_name": "Python 3",
      "name": "python3"
    },
    "language_info": {
      "codemirror_mode": {
        "name": "ipython",
        "version": 3
      },
      "file_extension": ".py",
      "mimetype": "text/x-python",
      "name": "python",
      "nbconvert_exporter": "python",
      "pygments_lexer": "ipython3",
      "version": "3.9.0"
    }
  },
  "nbformat": 4,
  "nbformat_minor": 0
}
