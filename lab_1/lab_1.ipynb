{
 "cells": [
  {
   "cell_type": "markdown",
   "metadata": {},
   "source": [
    "Лабораторная работа No1\n",
    "Тема \"Детерминированный конечный автомат\" (20 баллов)\n",
    "\n",
    "1. Создать объекты программы для представления детерминированного конечного автомата (ДКА), его состояний и переходов.\n",
    "2. Реализовать процедуры добавления/удаления переходов и состояний, добавления и удаления начальных и заключительных состояний.\n",
    "3. Реализовать процедуру перевода ДКА из заданного состояния в другое посредством одног оиз допустимых переходов ДКА.\n",
    "4. Реализовать процедуру/метод работы детерминированного конечного автомата по входной цепочке символов алфавита ДКА\n"
   ]
  },
  {
   "cell_type": "markdown",
   "metadata": {},
   "source": [
    "### В качестве примера я возьму данный конечный автомат\n",
    "\n",
    "![](./fsm.png)"
   ]
  },
  {
   "cell_type": "code",
   "execution_count": 3,
   "metadata": {},
   "outputs": [
    {
     "name": "stdout",
     "output_type": "stream",
     "text": [
      "0\n",
      "prev= 0\n",
      "a\n",
      "after= 1\n",
      "---\n",
      "prev= 1\n",
      "ab\n",
      "after= 2\n",
      "---\n",
      "prev= 2\n",
      "aba\n",
      "after= 1\n",
      "---\n",
      "prev= 1\n",
      "abab\n",
      "after= 2\n",
      "---\n",
      "prev= 2\n",
      "ababa\n",
      "after= 1\n",
      "---\n",
      "prev= 1\n",
      "ababab\n",
      "after= 2\n",
      "---\n",
      "RES= 2\n"
     ]
    },
    {
     "data": {
      "text/plain": [
       "False"
      ]
     },
     "execution_count": 3,
     "metadata": {},
     "output_type": "execute_result"
    }
   ],
   "source": [
    "class Transition:\n",
    "    def __init__(\n",
    "        self,\n",
    "        current_state: int,\n",
    "        next_state: int,\n",
    "        rule: str,\n",
    "    ):\n",
    "        self.current_state = current_state\n",
    "        self.next_state = next_state\n",
    "        self.rule = rule\n",
    "\n",
    "\n",
    "class FSM:\n",
    "    def __init__(\n",
    "        self,\n",
    "    ) -> None:\n",
    "        self.transitions: list[Transition] = []\n",
    "        self.states = {}\n",
    "        self.initial_state = None\n",
    "        self.final_state = None\n",
    "        self.current_state = None\n",
    "\n",
    "    def add_transition(self, transition: Transition):\n",
    "        current_state = transition.current_state\n",
    "        next_state = transition.next_state\n",
    "        rule = transition.rule\n",
    "        if self.states.get(current_state, None) is None:\n",
    "            self.states[current_state] = {}\n",
    "        self.states[current_state][rule] = next_state\n",
    "\n",
    "    def delete_transition(self, transition: Transition):\n",
    "        current_state = transition.current_state\n",
    "        rule = transition.rule\n",
    "        if current_state in self.states:\n",
    "            if rule in self.states[current_state]:\n",
    "                del self.states[current_state][rule]\n",
    "\n",
    "    def set_initial_state(self, state_num: int):\n",
    "        # если начальное состояние неопределено\n",
    "        # тогда при его определении, текущее становится равно начальному\n",
    "        if self.initial_state is None:\n",
    "            self.current_state = state_num\n",
    "        self.initial_state = state_num\n",
    "\n",
    "    def set_final_state(self, state_num: int):\n",
    "        self.final_state = state_num\n",
    "    \n",
    "    def delete_initial_state(self):\n",
    "        self.initial_state = None\n",
    "    \n",
    "    def delete_final_state(self):\n",
    "        self.final_state = None\n",
    "\n",
    "    def move(self, rule: str):\n",
    "        if not self.current_state is None:\n",
    "            if rule in self.states[self.current_state]:\n",
    "                next_state = self.states[self.current_state][rule]\n",
    "                self.current_state = next_state\n",
    "        else:\n",
    "            print(\"Please add initial state!\")\n",
    "\n",
    "    def match_word(self, word: str):\n",
    "        print(self.current_state)\n",
    "        current_word = \"\"\n",
    "        for w in word:\n",
    "            current_word += w\n",
    "            print(\"prev=\", self.current_state)\n",
    "            self.move(w)\n",
    "            print(current_word)\n",
    "            print(\"after=\", self.current_state)\n",
    "            print(\"---\")\n",
    "\n",
    "        print(\"RES=\", self.current_state)\n",
    "        if self.current_state == self.final_state:\n",
    "            return True\n",
    "        else:\n",
    "            return False\n",
    "\n",
    "\n",
    "fsm_1 = FSM()\n",
    "# смоделируем язык (a | b)* abb\n",
    "transitions = [\n",
    "    Transition(current_state=0, next_state=1, rule=\"b\"),\n",
    "    Transition(current_state=0, next_state=1, rule=\"a\"),\n",
    "    Transition(current_state=1, next_state=1, rule=\"a\"),\n",
    "    Transition(current_state=1, next_state=2, rule=\"b\"),\n",
    "    Transition(current_state=2, next_state=1, rule=\"a\"),\n",
    "    Transition(current_state=2, next_state=3, rule=\"b\"),\n",
    "    Transition(current_state=3, next_state=1, rule=\"a\"),\n",
    "    Transition(current_state=3, next_state=0, rule=\"b\"),\n",
    "]\n",
    "\n",
    "\n",
    "for transition in transitions:\n",
    "    fsm_1.add_transition(transition=transition)\n",
    "\n",
    "fsm_1.set_initial_state(state_num=0)\n",
    "fsm_1.set_final_state(state_num=3)\n",
    "\n",
    "word = \"ababab\"\n",
    "fsm_1.match_word(word=word)"
   ]
  },
  {
   "cell_type": "markdown",
   "metadata": {},
   "source": [
    "Изменим прошлый автомат, удалив из него переход, который происходит когда мы находимся в состоянии 3 и на вход приходит буква b"
   ]
  },
  {
   "cell_type": "code",
   "execution_count": 1,
   "metadata": {},
   "outputs": [
    {
     "ename": "NameError",
     "evalue": "name 'FSM' is not defined",
     "output_type": "error",
     "traceback": [
      "\u001b[1;31m---------------------------------------------------------------------------\u001b[0m",
      "\u001b[1;31mNameError\u001b[0m                                 Traceback (most recent call last)",
      "\u001b[1;32md:\\YandexDisk\\volsu_mag_2023\\Теория формальных языков и автоматов\\ТФЯиА\\volsu_comp\\lab_1\\lab_1.ipynb Cell 5\u001b[0m line \u001b[0;36m1\n\u001b[1;32m----> <a href='vscode-notebook-cell:/d%3A/YandexDisk/volsu_mag_2023/%D0%A2%D0%B5%D0%BE%D1%80%D0%B8%D1%8F%20%D1%84%D0%BE%D1%80%D0%BC%D0%B0%D0%BB%D1%8C%D0%BD%D1%8B%D1%85%20%D1%8F%D0%B7%D1%8B%D0%BA%D0%BE%D0%B2%20%D0%B8%20%D0%B0%D0%B2%D1%82%D0%BE%D0%BC%D0%B0%D1%82%D0%BE%D0%B2/%D0%A2%D0%A4%D0%AF%D0%B8%D0%90/volsu_comp/lab_1/lab_1.ipynb#W4sZmlsZQ%3D%3D?line=0'>1</a>\u001b[0m fsm_2 \u001b[39m=\u001b[39m FSM()\n\u001b[0;32m      <a href='vscode-notebook-cell:/d%3A/YandexDisk/volsu_mag_2023/%D0%A2%D0%B5%D0%BE%D1%80%D0%B8%D1%8F%20%D1%84%D0%BE%D1%80%D0%BC%D0%B0%D0%BB%D1%8C%D0%BD%D1%8B%D1%85%20%D1%8F%D0%B7%D1%8B%D0%BA%D0%BE%D0%B2%20%D0%B8%20%D0%B0%D0%B2%D1%82%D0%BE%D0%BC%D0%B0%D1%82%D0%BE%D0%B2/%D0%A2%D0%A4%D0%AF%D0%B8%D0%90/volsu_comp/lab_1/lab_1.ipynb#W4sZmlsZQ%3D%3D?line=1'>2</a>\u001b[0m \u001b[39m# смоделируем язык (a | b)* abb\u001b[39;00m\n\u001b[0;32m      <a href='vscode-notebook-cell:/d%3A/YandexDisk/volsu_mag_2023/%D0%A2%D0%B5%D0%BE%D1%80%D0%B8%D1%8F%20%D1%84%D0%BE%D1%80%D0%BC%D0%B0%D0%BB%D1%8C%D0%BD%D1%8B%D1%85%20%D1%8F%D0%B7%D1%8B%D0%BA%D0%BE%D0%B2%20%D0%B8%20%D0%B0%D0%B2%D1%82%D0%BE%D0%BC%D0%B0%D1%82%D0%BE%D0%B2/%D0%A2%D0%A4%D0%AF%D0%B8%D0%90/volsu_comp/lab_1/lab_1.ipynb#W4sZmlsZQ%3D%3D?line=2'>3</a>\u001b[0m transitions \u001b[39m=\u001b[39m [\n\u001b[0;32m      <a href='vscode-notebook-cell:/d%3A/YandexDisk/volsu_mag_2023/%D0%A2%D0%B5%D0%BE%D1%80%D0%B8%D1%8F%20%D1%84%D0%BE%D1%80%D0%BC%D0%B0%D0%BB%D1%8C%D0%BD%D1%8B%D1%85%20%D1%8F%D0%B7%D1%8B%D0%BA%D0%BE%D0%B2%20%D0%B8%20%D0%B0%D0%B2%D1%82%D0%BE%D0%BC%D0%B0%D1%82%D0%BE%D0%B2/%D0%A2%D0%A4%D0%AF%D0%B8%D0%90/volsu_comp/lab_1/lab_1.ipynb#W4sZmlsZQ%3D%3D?line=3'>4</a>\u001b[0m     Transition(current_state\u001b[39m=\u001b[39m\u001b[39m0\u001b[39m, next_state\u001b[39m=\u001b[39m\u001b[39m1\u001b[39m, rule\u001b[39m=\u001b[39m\u001b[39m\"\u001b[39m\u001b[39mb\u001b[39m\u001b[39m\"\u001b[39m),\n\u001b[0;32m      <a href='vscode-notebook-cell:/d%3A/YandexDisk/volsu_mag_2023/%D0%A2%D0%B5%D0%BE%D1%80%D0%B8%D1%8F%20%D1%84%D0%BE%D1%80%D0%BC%D0%B0%D0%BB%D1%8C%D0%BD%D1%8B%D1%85%20%D1%8F%D0%B7%D1%8B%D0%BA%D0%BE%D0%B2%20%D0%B8%20%D0%B0%D0%B2%D1%82%D0%BE%D0%BC%D0%B0%D1%82%D0%BE%D0%B2/%D0%A2%D0%A4%D0%AF%D0%B8%D0%90/volsu_comp/lab_1/lab_1.ipynb#W4sZmlsZQ%3D%3D?line=4'>5</a>\u001b[0m     Transition(current_state\u001b[39m=\u001b[39m\u001b[39m0\u001b[39m, next_state\u001b[39m=\u001b[39m\u001b[39m1\u001b[39m, rule\u001b[39m=\u001b[39m\u001b[39m\"\u001b[39m\u001b[39ma\u001b[39m\u001b[39m\"\u001b[39m),\n\u001b[1;32m   (...)\u001b[0m\n\u001b[0;32m     <a href='vscode-notebook-cell:/d%3A/YandexDisk/volsu_mag_2023/%D0%A2%D0%B5%D0%BE%D1%80%D0%B8%D1%8F%20%D1%84%D0%BE%D1%80%D0%BC%D0%B0%D0%BB%D1%8C%D0%BD%D1%8B%D1%85%20%D1%8F%D0%B7%D1%8B%D0%BA%D0%BE%D0%B2%20%D0%B8%20%D0%B0%D0%B2%D1%82%D0%BE%D0%BC%D0%B0%D1%82%D0%BE%D0%B2/%D0%A2%D0%A4%D0%AF%D0%B8%D0%90/volsu_comp/lab_1/lab_1.ipynb#W4sZmlsZQ%3D%3D?line=10'>11</a>\u001b[0m     Transition(current_state\u001b[39m=\u001b[39m\u001b[39m3\u001b[39m, next_state\u001b[39m=\u001b[39m\u001b[39m0\u001b[39m, rule\u001b[39m=\u001b[39m\u001b[39m\"\u001b[39m\u001b[39mb\u001b[39m\u001b[39m\"\u001b[39m),\n\u001b[0;32m     <a href='vscode-notebook-cell:/d%3A/YandexDisk/volsu_mag_2023/%D0%A2%D0%B5%D0%BE%D1%80%D0%B8%D1%8F%20%D1%84%D0%BE%D1%80%D0%BC%D0%B0%D0%BB%D1%8C%D0%BD%D1%8B%D1%85%20%D1%8F%D0%B7%D1%8B%D0%BA%D0%BE%D0%B2%20%D0%B8%20%D0%B0%D0%B2%D1%82%D0%BE%D0%BC%D0%B0%D1%82%D0%BE%D0%B2/%D0%A2%D0%A4%D0%AF%D0%B8%D0%90/volsu_comp/lab_1/lab_1.ipynb#W4sZmlsZQ%3D%3D?line=11'>12</a>\u001b[0m ]\n",
      "\u001b[1;31mNameError\u001b[0m: name 'FSM' is not defined"
     ]
    }
   ],
   "source": [
    "fsm_2 = FSM()\n",
    "# смоделируем язык (a | b)* abb\n",
    "transitions = [\n",
    "    Transition(current_state=0, next_state=1, rule=\"b\"),\n",
    "    Transition(current_state=0, next_state=1, rule=\"a\"),\n",
    "    Transition(current_state=1, next_state=1, rule=\"a\"),\n",
    "    Transition(current_state=1, next_state=2, rule=\"b\"),\n",
    "    Transition(current_state=2, next_state=1, rule=\"a\"),\n",
    "    Transition(current_state=2, next_state=3, rule=\"b\"),\n",
    "    Transition(current_state=3, next_state=1, rule=\"a\"),\n",
    "    Transition(current_state=3, next_state=0, rule=\"b\"),\n",
    "]\n",
    "\n",
    "\n",
    "\n",
    "for transition in transitions:\n",
    "    fsm_2.add_transition(transition=transition)\n",
    "\n",
    "fsm_2.delete_transition(\n",
    "    transition=Transition(current_state=3, next_state=0, rule='b')\n",
    ")\n",
    "\n",
    "fsm_2.set_initial_state(state_num=0)\n",
    "fsm_2.set_final_state(state_num=3)\n",
    "\n",
    "word = \"ababbb\"\n",
    "fsm_2.match_word(word=word)"
   ]
  },
  {
   "cell_type": "markdown",
   "metadata": {},
   "source": [
    "Удаление перехода сработало успешно, теперь данный автомат принимает наше слово."
   ]
  }
 ],
 "metadata": {
  "kernelspec": {
   "display_name": "Python 3",
   "language": "python",
   "name": "python3"
  },
  "language_info": {
   "codemirror_mode": {
    "name": "ipython",
    "version": 3
   },
   "file_extension": ".py",
   "mimetype": "text/x-python",
   "name": "python",
   "nbconvert_exporter": "python",
   "pygments_lexer": "ipython3",
   "version": "3.9.0"
  }
 },
 "nbformat": 4,
 "nbformat_minor": 2
}
